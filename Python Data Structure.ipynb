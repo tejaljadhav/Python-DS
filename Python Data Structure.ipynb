{
 "cells": [
  {
   "cell_type": "code",
   "execution_count": null,
   "id": "f3ef6b6d-b99a-429b-bfe3-0ec4d093001a",
   "metadata": {},
   "outputs": [],
   "source": [
    "LIST\n",
    "It is ordered\n",
    "Mutable (items can be updated, add and remove)"
   ]
  },
  {
   "cell_type": "code",
   "execution_count": 1,
   "id": "5d4b84c1-a434-4294-a6fa-1f646f77a727",
   "metadata": {},
   "outputs": [],
   "source": [
    "#define a list\n",
    "list_name=[]"
   ]
  },
  {
   "cell_type": "code",
   "execution_count": 3,
   "id": "6d9af9de-3541-493f-9ed9-63189d5becfc",
   "metadata": {},
   "outputs": [
    {
     "data": {
      "text/plain": [
       "['test', 10, 2.5, True]"
      ]
     },
     "execution_count": 3,
     "metadata": {},
     "output_type": "execute_result"
    }
   ],
   "source": [
    "#Set List\n",
    "list_name=['test',10,2.5,True]\n",
    "list_name"
   ]
  },
  {
   "cell_type": "code",
   "execution_count": 8,
   "id": "c8fbda5e-6cdb-48a7-af0f-4c13f320918c",
   "metadata": {},
   "outputs": [
    {
     "name": "stdout",
     "output_type": "stream",
     "text": [
      "10\n",
      "True\n"
     ]
    }
   ],
   "source": [
    "#Indexing a list (extracting single item from the list)\n",
    "'''Positive indexing 0,1(from First)\n",
    "   Negative indexing -1,-2 (from Last )\n",
    "'''\n",
    "a=list_name[1]\n",
    "b=list_name[-1]\n",
    "print(a)\n",
    "print(b)"
   ]
  },
  {
   "cell_type": "code",
   "execution_count": 9,
   "id": "ddb451a2-70ca-4314-b690-6ffd83783894",
   "metadata": {},
   "outputs": [
    {
     "data": {
      "text/plain": [
       "['test', 10, 2.5]"
      ]
     },
     "execution_count": 9,
     "metadata": {},
     "output_type": "execute_result"
    }
   ],
   "source": [
    "#Range of index\n",
    "'''It will consider first limit that is 0 but exclude last limit that 3. It will consider items from o th index to 2nd index'''\n",
    "list_name[0:3]"
   ]
  },
  {
   "cell_type": "code",
   "execution_count": 16,
   "id": "a29c2364-4bc8-4cc9-a9f2-ab161c1b4068",
   "metadata": {},
   "outputs": [
    {
     "data": {
      "text/plain": [
       "[]"
      ]
     },
     "execution_count": 16,
     "metadata": {},
     "output_type": "execute_result"
    }
   ],
   "source": [
    "#slicing the list\n",
    "'''In- order to access the range of elements we need to slice a list.List slicing returns a new list from the existing list\n",
    "synatx= [start: end: indexjump]\n",
    "'''\n",
    "#list_name[0:3]\n",
    "#list_name[0:3:2]\n",
    "#list_name[:-2]\n",
    "'''If some slicing expressions are made that do not make sense or are incomputable then empty lists are generated.'''\n",
    "list_name[0:3:-2]\n"
   ]
  },
  {
   "cell_type": "code",
   "execution_count": 21,
   "id": "bd6c050e-3077-49a8-809a-1df1421099a2",
   "metadata": {},
   "outputs": [
    {
     "data": {
      "text/plain": [
       "True"
      ]
     },
     "execution_count": 21,
     "metadata": {},
     "output_type": "execute_result"
    }
   ],
   "source": [
    "#Membership Operators\n",
    "'''to check if particular element is present in list or not'''\n",
    "\n",
    "'test' in list_name\n",
    "\n",
    "'ravan' not in list_name"
   ]
  },
  {
   "cell_type": "code",
   "execution_count": 18,
   "id": "ab59989c-fd8e-4ca0-a5e5-1e004d9c20a2",
   "metadata": {},
   "outputs": [
    {
     "data": {
      "text/plain": [
       "True"
      ]
     },
     "execution_count": 18,
     "metadata": {},
     "output_type": "execute_result"
    }
   ],
   "source": [
    "Adding to List\n",
    "#adding a single element => append() : add at the end of the list\n",
    "#adding multiple elements => extend() : add list into a list(helps to add more that one element in existing list in one go )"
   ]
  },
  {
   "cell_type": "code",
   "execution_count": 22,
   "id": "765e9944-ada4-4b66-920c-448ecf8538bf",
   "metadata": {},
   "outputs": [],
   "source": [
    "list_name.append('tejal')"
   ]
  },
  {
   "cell_type": "code",
   "execution_count": 25,
   "id": "4c121923-ba72-46ec-b82c-0386df4b2414",
   "metadata": {},
   "outputs": [
    {
     "data": {
      "text/plain": [
       "['test', 10, 2.5, True, 'tejal', 11, 12, 13]"
      ]
     },
     "execution_count": 25,
     "metadata": {},
     "output_type": "execute_result"
    }
   ],
   "source": [
    "list_name"
   ]
  },
  {
   "cell_type": "code",
   "execution_count": 24,
   "id": "a860475f-0269-4266-a736-3b40f4ef325b",
   "metadata": {},
   "outputs": [],
   "source": [
    "list_name.extend([11,12,13])"
   ]
  },
  {
   "cell_type": "code",
   "execution_count": null,
   "id": "02ba41a0-43e5-437f-8586-818e29b6da05",
   "metadata": {},
   "outputs": [],
   "source": [
    "#delete\n",
    "'''delete by index =>del\n",
    "   delete by element => remove'''"
   ]
  },
  {
   "cell_type": "code",
   "execution_count": 26,
   "id": "88b45884-f2d5-4cfd-bf09-2e4f9d74019b",
   "metadata": {},
   "outputs": [],
   "source": [
    "del list_name[5]"
   ]
  },
  {
   "cell_type": "code",
   "execution_count": 27,
   "id": "f18ff0f6-22b2-4f5a-a6fd-3dd5aa41b0aa",
   "metadata": {},
   "outputs": [
    {
     "data": {
      "text/plain": [
       "['test', 10, 2.5, True, 'tejal', 12, 13]"
      ]
     },
     "execution_count": 27,
     "metadata": {},
     "output_type": "execute_result"
    }
   ],
   "source": [
    "list_name"
   ]
  },
  {
   "cell_type": "code",
   "execution_count": 28,
   "id": "6eb66e1b-ceaa-42f7-9549-c88d1acc8c26",
   "metadata": {},
   "outputs": [
    {
     "data": {
      "text/plain": [
       "['test', 10, True, 'tejal', 12, 13]"
      ]
     },
     "execution_count": 28,
     "metadata": {},
     "output_type": "execute_result"
    }
   ],
   "source": [
    "list_name.remove(2.5)\n",
    "list_name"
   ]
  },
  {
   "cell_type": "code",
   "execution_count": null,
   "id": "74b78389-8519-419c-8db3-1bcf7d6aa6c2",
   "metadata": {},
   "outputs": [],
   "source": [
    "#pre-defined methods of list\n",
    "'''\n",
    " 1.len\n",
    " 2. reverse\n",
    " 3.sort => not supports for different data types in list. only same data type elements in list can be sorted .\n",
    " \n",
    "'''"
   ]
  },
  {
   "cell_type": "code",
   "execution_count": 43,
   "id": "97b58947-c866-49f6-abcd-b6a7f4d7dc92",
   "metadata": {},
   "outputs": [],
   "source": [
    "list1=[10,100,30,70,50]\n",
    "len(list1)\n",
    "#list1.reverse()\n",
    "#list1\n",
    "list1.sort()\n",
    "#sorted(list1)\n",
    "#list1"
   ]
  },
  {
   "cell_type": "code",
   "execution_count": null,
   "id": "bb0b35e2-1474-498e-b23d-efceb7def05a",
   "metadata": {},
   "outputs": [],
   "source": [
    "Tuple\n",
    "It is orderedand immutable (can't update / edit or add and delete delete tuple item)\n",
    "Faster than list                            "
   ]
  },
  {
   "cell_type": "code",
   "execution_count": 1,
   "id": "64becc07-66c7-496a-8e09-9f65dc260a28",
   "metadata": {},
   "outputs": [
    {
     "name": "stdout",
     "output_type": "stream",
     "text": [
      "<class 'tuple'>\n"
     ]
    }
   ],
   "source": [
    "tup1=('test',11,True)\n",
    "print(type(tup1))"
   ]
  },
  {
   "cell_type": "code",
   "execution_count": 2,
   "id": "8caf87b8",
   "metadata": {},
   "outputs": [
    {
     "data": {
      "text/plain": [
       "'test'"
      ]
     },
     "execution_count": 2,
     "metadata": {},
     "output_type": "execute_result"
    }
   ],
   "source": [
    "#accessing tuple by index num\n",
    "tup1[0]"
   ]
  },
  {
   "cell_type": "code",
   "execution_count": 22,
   "id": "e9fba781",
   "metadata": {},
   "outputs": [
    {
     "data": {
      "text/plain": [
       "(1, 2, 3, 3, (11, 11, 22, 33), (777, 888, 666))"
      ]
     },
     "execution_count": 22,
     "metadata": {},
     "output_type": "execute_result"
    }
   ],
   "source": [
    "#nested tuple\n",
    "tup1=(1,2,3,3,(11,11,22,33),(777,888,666))\n",
    "tup1"
   ]
  },
  {
   "cell_type": "code",
   "execution_count": 5,
   "id": "f06b3996",
   "metadata": {},
   "outputs": [
    {
     "data": {
      "text/plain": [
       "(11, 22, 33)"
      ]
     },
     "execution_count": 5,
     "metadata": {},
     "output_type": "execute_result"
    }
   ],
   "source": [
    "tup1[3]"
   ]
  },
  {
   "cell_type": "code",
   "execution_count": 8,
   "id": "d04614ea",
   "metadata": {},
   "outputs": [
    {
     "data": {
      "text/plain": [
       "(33,)"
      ]
     },
     "execution_count": 8,
     "metadata": {},
     "output_type": "execute_result"
    }
   ],
   "source": [
    "#access tuple inside tuple elements\n",
    "tup1[3][2:4]"
   ]
  },
  {
   "cell_type": "code",
   "execution_count": 23,
   "id": "473d4cd2",
   "metadata": {},
   "outputs": [
    {
     "data": {
      "text/plain": [
       "1"
      ]
     },
     "execution_count": 23,
     "metadata": {},
     "output_type": "execute_result"
    }
   ],
   "source": [
    "#find index of any element\n",
    "#tup1.index(3)\n",
    "#find count of any element\n",
    "tup1.count(1)\n",
    "\n",
    "#iterate from tuple \n",
    "'''for a in tup1:\n",
    "    print(a)'''\n",
    "#slicing in tuple\n",
    "tup1[1:4]\n",
    "#count method on slice\n",
    "tup1[1:4].count(3)\n",
    "#index method on slice\n",
    "tup1[1:4].index(3)"
   ]
  },
  {
   "cell_type": "code",
   "execution_count": null,
   "id": "4a9db00b",
   "metadata": {},
   "outputs": [],
   "source": [
    "Dictionary\n",
    "#unordered list\n",
    "#elements of dictionary can only be access by using key not index\n",
    "#Every key must be unique\n",
    "dic= {'key': value}\n",
    "#dictionary key can be anything(string,int,float,boolean)"
   ]
  },
  {
   "cell_type": "code",
   "execution_count": 27,
   "id": "1542922e",
   "metadata": {},
   "outputs": [
    {
     "data": {
      "text/plain": [
       "{'name': ['Tejal', 'Tanmayi', 'Anna'], 'City': ['Pune', 'Banglore', 'Kolkata']}"
      ]
     },
     "execution_count": 27,
     "metadata": {},
     "output_type": "execute_result"
    }
   ],
   "source": [
    "student_dict= {\n",
    "    'name':['Tejal','Tanmayi','Anna'],\n",
    "    'City':['Pune','Banglore','Kolkata'],\n",
    "    \n",
    "    \n",
    "}\n",
    "student_dict"
   ]
  },
  {
   "cell_type": "code",
   "execution_count": 29,
   "id": "df10161a",
   "metadata": {},
   "outputs": [
    {
     "data": {
      "text/plain": [
       "['Tanmayi']"
      ]
     },
     "execution_count": 29,
     "metadata": {},
     "output_type": "execute_result"
    }
   ],
   "source": [
    "#accessing dict element can be possible by key\n",
    "#student_dict['name']\n",
    "student_dict['name'][1:2]"
   ]
  },
  {
   "cell_type": "code",
   "execution_count": 31,
   "id": "6e280654",
   "metadata": {},
   "outputs": [
    {
     "data": {
      "text/plain": [
       "dict_keys(['name', 'City'])"
      ]
     },
     "execution_count": 31,
     "metadata": {},
     "output_type": "execute_result"
    }
   ],
   "source": [
    "#get all the keys in dictionary\n",
    "student_dict.keys()"
   ]
  },
  {
   "cell_type": "code",
   "execution_count": 47,
   "id": "d1b650ce",
   "metadata": {},
   "outputs": [
    {
     "name": "stdout",
     "output_type": "stream",
     "text": [
      "name ['james', 'alfredo']\n",
      "City ['Pune', 'Banglore', 'Kolkata']\n",
      "marks [100, 100, 80]\n",
      "remark ['Pass', 'distiction', 'fail']\n",
      "pincode 411037\n",
      "Country India\n",
      "status approved\n"
     ]
    },
    {
     "data": {
      "text/plain": [
       "[('City', ['Pune', 'Banglore', 'Kolkata']),\n",
       " ('Country', 'India'),\n",
       " ('marks', [100, 100, 80]),\n",
       " ('name', ['james', 'alfredo']),\n",
       " ('pincode', 411037),\n",
       " ('remark', ['Pass', 'distiction', 'fail']),\n",
       " ('status', 'approved')]"
      ]
     },
     "execution_count": 47,
     "metadata": {},
     "output_type": "execute_result"
    }
   ],
   "source": [
    "#adding new key and  elements into the key\n",
    "#dictname['key_name']=['values to update']\n",
    "student_dict['age']=[20,23,25]\n",
    "student_dict\n",
    "\n",
    "\n",
    "#updating values from existing key value\n",
    "\n",
    "student_dict['name']=['james','alfredo']\n",
    "student_dict\n",
    "\n",
    "#adding multiple keys and values in dictionary\n",
    "student_dict.update({'marks':[100,100,80],'remark':['Pass','distiction','fail']})\n",
    "student_dict\n",
    "\n",
    "#deleting elements form list\n",
    "\n",
    "del student_dict['age']\n",
    "student_dict\n",
    "\n",
    "\n",
    "#updating dict with dicts\n",
    "student_dict.update({'pincode':411037,'Country':'India'})\n",
    "student_dict\n",
    "\n",
    "#updating dict with list tuple\n",
    "\n",
    "student_dict.update([('status','approved')])\n",
    "student_dict\n",
    "\n",
    "\n",
    "#iterating dict using key value pair\n",
    "\n",
    "for key,value in student_dict.items():\n",
    "    print(key,value)\n",
    "    \n",
    "#sorting dictionary based on keys\n",
    "sorted(student_dict.items())\n",
    "\n",
    "#sorting dict based on values will require lambda expression"
   ]
  },
  {
   "cell_type": "code",
   "execution_count": null,
   "id": "e375e476",
   "metadata": {},
   "outputs": [],
   "source": [
    "#Sets\n",
    "Unordered list\n",
    "mutable(can add update  or delete elements )\n",
    "no duplicates only unique\n"
   ]
  },
  {
   "cell_type": "code",
   "execution_count": 1,
   "id": "17b0a340",
   "metadata": {},
   "outputs": [
    {
     "name": "stdout",
     "output_type": "stream",
     "text": [
      "{10, 'B', 'A'}\n"
     ]
    }
   ],
   "source": [
    "#define a set using list\n",
    "list_1= ['A','B',10,'B','A']\n",
    "set_= set(list_1)\n",
    "print(set_)\n",
    "#it will remove duplicate values i.e 'B' and 'A' and print below output"
   ]
  },
  {
   "cell_type": "code",
   "execution_count": 13,
   "id": "04f0ff3a",
   "metadata": {},
   "outputs": [
    {
     "name": "stdout",
     "output_type": "stream",
     "text": [
      "{0, 'A', 20, 'C', 'B'}\n"
     ]
    }
   ],
   "source": [
    "#ading value to set\n",
    "set_.add(0)\n",
    "print(set_)\n",
    "#set sorts element by order"
   ]
  },
  {
   "cell_type": "code",
   "execution_count": 7,
   "id": "e5eacd5f",
   "metadata": {},
   "outputs": [],
   "source": [
    "set_.add('C')"
   ]
  },
  {
   "cell_type": "code",
   "execution_count": 12,
   "id": "34c90d9c",
   "metadata": {},
   "outputs": [],
   "source": [
    "#removing elements from the set\n",
    "#discard: if elememt not in set ,it will not show an error \n",
    "#remove: if elements not in set , it will show an error\n",
    "\n",
    "set_.discard(30)\n",
    "set_.remove(10)"
   ]
  },
  {
   "cell_type": "code",
   "execution_count": 23,
   "id": "46d924c0",
   "metadata": {},
   "outputs": [
    {
     "data": {
      "text/plain": [
       "set()"
      ]
     },
     "execution_count": 23,
     "metadata": {},
     "output_type": "execute_result"
    }
   ],
   "source": [
    "#set operations\n",
    "set_1={1,2,3,'A','C'}\n",
    "set_2={3,'B'}\n",
    "\n",
    "#set difference\n",
    "set_1.difference(set_2)\n",
    "\n",
    "#if we want to update set_1 by it's difference\n",
    "set_1.difference_update(set_2)\n",
    "\n",
    "#set intersection\n",
    "set_1.intersection_update(set_2)\n",
    "set_1"
   ]
  },
  {
   "cell_type": "code",
   "execution_count": null,
   "id": "5255b1e1",
   "metadata": {},
   "outputs": [],
   "source": []
  }
 ],
 "metadata": {
  "kernelspec": {
   "display_name": "Python 3",
   "language": "python",
   "name": "python3"
  },
  "language_info": {
   "codemirror_mode": {
    "name": "ipython",
    "version": 3
   },
   "file_extension": ".py",
   "mimetype": "text/x-python",
   "name": "python",
   "nbconvert_exporter": "python",
   "pygments_lexer": "ipython3",
   "version": "3.8.8"
  }
 },
 "nbformat": 4,
 "nbformat_minor": 5
}
